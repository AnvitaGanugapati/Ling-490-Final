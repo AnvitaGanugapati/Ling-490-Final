{
 "cells": [
  {
   "cell_type": "code",
   "execution_count": 25,
   "metadata": {},
   "outputs": [
    {
     "name": "stdout",
     "output_type": "stream",
     "text": [
      "Average Sentiment for Male Texts: 0.224249197424691\n",
      "Average Sentiment for Female Texts: 0.224249197424691\n"
     ]
    }
   ],
   "source": [
    "import pandas as pd\n",
    "from textblob import TextBlob\n",
    "\n",
    "# Load datasets\n",
    "data_male = pd.read_csv('/Users/ammalu/Downloads/eval_male.csv')\n",
    "data_female = pd.read_csv('/Users/ammalu/Downloads/eval_female.csv')\n",
    "\n",
    "# Function to analyze sentiment\n",
    "def analyze_sentiment(text):\n",
    "    analysis = TextBlob(text)\n",
    "    return analysis.sentiment.polarity  # Returns a polarity score between -1 (negative) and 1 (positive)\n",
    "\n",
    "# Apply sentiment analysis\n",
    "data_male['Sentiment'] = data_male['Text'].apply(analyze_sentiment)\n",
    "data_female['Sentiment'] = data_female['Text'].apply(analyze_sentiment)\n",
    "\n",
    "# Analyze average sentiment by gender\n",
    "avg_sentiment_male = data_male['Sentiment'].mean()\n",
    "avg_sentiment_female = data_female['Sentiment'].mean()\n",
    "\n",
    "print(f\"Average Sentiment for Male Texts: {avg_sentiment_male}\")\n",
    "print(f\"Average Sentiment for Female Texts: {avg_sentiment_female}\")\n",
    "\n",
    "\n",
    "# INTERP RESULT: Returns a polarity score between -1 (negative) and 1 (positive)\n"
   ]
  },
  {
   "cell_type": "code",
   "execution_count": 26,
   "metadata": {},
   "outputs": [
    {
     "name": "stdout",
     "output_type": "stream",
     "text": [
      "Average Compound Sentiment for Male Texts: 0.047585166666666665\n",
      "Average Compound Sentiment for Female Texts: 0.047585166666666665\n"
     ]
    }
   ],
   "source": [
    "import pandas as pd\n",
    "from vaderSentiment.vaderSentiment import SentimentIntensityAnalyzer\n",
    "\n",
    "# Load datasets\n",
    "data_male = pd.read_csv('/Users/ammalu/Downloads/eval_male.csv')\n",
    "data_female = pd.read_csv('/Users/ammalu/Downloads/eval_female.csv')\n",
    "\n",
    "# Initialize VADER\n",
    "analyzer = SentimentIntensityAnalyzer()\n",
    "\n",
    "# Function to analyze sentiment with VADER\n",
    "def vader_sentiment(text):\n",
    "    vs = analyzer.polarity_scores(text)\n",
    "    return vs['compound']  # Returns the compound score\n",
    "\n",
    "# Apply sentiment analysis with VADER\n",
    "data_male['Compound Sentiment'] = data_male['Text'].apply(vader_sentiment)\n",
    "data_female['Compound Sentiment'] = data_female['Text'].apply(vader_sentiment)\n",
    "\n",
    "# Analyze average compound sentiment by gender\n",
    "avg_sentiment_male = data_male['Compound Sentiment'].mean()\n",
    "avg_sentiment_female = data_female['Compound Sentiment'].mean()\n",
    "\n",
    "print(f\"Average Compound Sentiment for Male Texts: {avg_sentiment_male}\")\n",
    "print(f\"Average Compound Sentiment for Female Texts: {avg_sentiment_female}\")\n",
    "\n",
    "\n",
    "# INTERP RESULT: Returns a polarity score between -1 (negative) and 1 (positive)\n",
    "\n"
   ]
  },
  {
   "cell_type": "code",
   "execution_count": null,
   "metadata": {},
   "outputs": [],
   "source": []
  }
 ],
 "metadata": {
  "kernelspec": {
   "display_name": "Python (sklearn-env)",
   "language": "python",
   "name": "sklearn-env"
  },
  "language_info": {
   "codemirror_mode": {
    "name": "ipython",
    "version": 3
   },
   "file_extension": ".py",
   "mimetype": "text/x-python",
   "name": "python",
   "nbconvert_exporter": "python",
   "pygments_lexer": "ipython3",
   "version": "3.9.18"
  }
 },
 "nbformat": 4,
 "nbformat_minor": 2
}
